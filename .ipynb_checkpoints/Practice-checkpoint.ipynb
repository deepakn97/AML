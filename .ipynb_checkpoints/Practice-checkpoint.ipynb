{
 "cells": [
  {
   "cell_type": "markdown",
   "metadata": {},
   "source": [
    "# Practice and notes"
   ]
  },
  {
   "cell_type": "markdown",
   "metadata": {},
   "source": [
    "## a. Importing Numpy in python"
   ]
  },
  {
   "cell_type": "code",
   "execution_count": null,
   "metadata": {
    "collapsed": true
   },
   "outputs": [],
   "source": [
    "import numpy as np\n",
    "print (np.version.version)"
   ]
  },
  {
   "cell_type": "markdown",
   "metadata": {},
   "source": [
    "## b. Null vectors, sizing and reversing"
   ]
  },
  {
   "cell_type": "code",
   "execution_count": 11,
   "metadata": {
    "scrolled": true
   },
   "outputs": [
    {
     "name": "stdout",
     "output_type": "stream",
     "text": [
      "[[  0.]\n",
      " [  0.]\n",
      " [  0.]\n",
      " [  0.]\n",
      " [  1.]\n",
      " [  0.]\n",
      " [  0.]\n",
      " [  0.]\n",
      " [  0.]\n",
      " [ 99.]]\n"
     ]
    }
   ],
   "source": [
    "import numpy as np\n",
    "import scipy as sp\n",
    "\n",
    "t = np.zeros(shape=(10,1))\n",
    "t[4] = 1\n",
    "t[9] = 99\n",
    "t = np.fliplr(t)\n",
    "print(t)"
   ]
  },
  {
   "cell_type": "markdown",
   "metadata": {},
   "source": [
    "Notes:\n",
    "1. Create null vector by command t = numpy.zeros(shape=(n,1)), where n is size of vector.\n",
    "2. You can use direct indexing for accessing the elements in that vector.\n",
    "3. For reversing a column, use \"flipud\" and for a row use \"fliplr\"."
   ]
  },
  {
   "cell_type": "markdown",
   "metadata": {
    "collapsed": true
   },
   "source": [
    "## c. Working with multidimensional arrays"
   ]
  },
  {
   "cell_type": "code",
   "execution_count": 30,
   "metadata": {},
   "outputs": [
    {
     "name": "stdout",
     "output_type": "stream",
     "text": [
      "[1 0 1 0 1 0 1 0 1 0]\n",
      "[[ 1.  0.  1.  0.  1.]\n",
      " [ 0.  1.  0.  1.  0.]\n",
      " [ 1.  0.  1.  0.  1.]\n",
      " [ 0.  1.  0.  1.  0.]\n",
      " [ 1.  0.  1.  0.  1.]]\n"
     ]
    }
   ],
   "source": [
    "#Create NxN array of alternating values\n",
    "import numpy as np\n",
    "import scipy as sp\n",
    "\n",
    "#method 1\n",
    "t1 = np.zeros(shape=(5,1))\n",
    "t1 = np.resize([1,0],5)\n",
    "\n",
    "#method 2\n",
    "t2 = np.zeros(5*5)\n",
    "t2[::2] = 1\n",
    "t2=t2.reshape(5, 5)\n",
    "\n",
    "print(t)\n",
    "print(t2)"
   ]
  },
  {
   "cell_type": "code",
   "execution_count": 41,
   "metadata": {},
   "outputs": [
    {
     "name": "stdout",
     "output_type": "stream",
     "text": [
      "[[81 80 50]\n",
      " [81 59 50]\n",
      " [ 9 14 72]]\n",
      "[[ 9 14 72]\n",
      " [81 59 50]\n",
      " [81 80 50]]\n",
      "[[81 80 50]\n",
      " [81 59 50]\n",
      " [ 9 14 72]]\n",
      "[array([ 9, 14, 72]), array([81, 59, 50]), array([81, 80, 50])]\n"
     ]
    }
   ],
   "source": [
    "#Sorting an array according to mth column of array\n",
    "\n",
    "import numpy as np\n",
    "import scipy as sp\n",
    "\n",
    "n = 3\n",
    "#using random integers function\n",
    "t = np.random.randint(1,101, (n,n))\n",
    "\n",
    "#method 1\n",
    "f1 = t;\n",
    "ind = np.argsort(f1[:,1])\n",
    "f1 = f1[ind]\n",
    "\n",
    "f1rev = t\n",
    "ind = np.argsort(f1rev[:,1])[::-1]\n",
    "f1rev = f1rev[ind]\n",
    "\n",
    "#method2\n",
    "f2 = t\n",
    "f2 = sorted(f2, key=lambda f2_entry: f2_entry[1])#use to sort list\n",
    "print(t)\n",
    "print(f1)\n",
    "print(f1rev)\n",
    "print(f2)"
   ]
  },
  {
   "cell_type": "code",
   "execution_count": 16,
   "metadata": {},
   "outputs": [
    {
     "name": "stdout",
     "output_type": "stream",
     "text": [
      "Method 1\n",
      "\n",
      "0.152592698999797\n",
      "Method 2\n",
      "\n",
      "2.7641790339985164\n",
      "Method 3\n",
      "\n",
      "3.179676820996974\n"
     ]
    }
   ],
   "source": [
    "#Create a matrix with (i+j)th element equal to i+j\n",
    "\n",
    "import numpy as np\n",
    "import scipy as sp\n",
    "import timeit\n",
    "\n",
    "n = 4096 # can go up to 10000\n",
    "\n",
    "#method 1\n",
    "start1 = timeit.default_timer()\n",
    "indices = np.indices((n, n))\n",
    "t1 = indices[0]+indices[1]\n",
    "stop1 = timeit.default_timer();\n",
    "\n",
    "#method 2\n",
    "start2 = timeit.default_timer()\n",
    "t2 = np.array([[i+j for j in range(n)] for i in range(n)])\n",
    "stop2 = timeit.default_timer()\n",
    "\n",
    "#method 3\n",
    "start3 = timeit.default_timer()\n",
    "np.frompyfunc(lambda i, j: i+j, 2, 1).outer(np.arange(n),np.arange(n),)\n",
    "stop3 = timeit.default_timer()\n",
    "print(\"Method 1\\n\")\n",
    "print(stop1-start1)\n",
    "print(\"Method 2\\n\")\n",
    "print(stop2-start2)\n",
    "print(\"Method 3\\n\")\n",
    "print(stop3-start3)"
   ]
  },
  {
   "cell_type": "code",
   "execution_count": 17,
   "metadata": {},
   "outputs": [
    {
     "name": "stdout",
     "output_type": "stream",
     "text": [
      "0.00012464599421946332\n",
      "0.00010213600035058334\n"
     ]
    }
   ],
   "source": [
    "#Matrix multiplication\n",
    "\n",
    "import numpy as np\n",
    "import scipy as sp\n",
    "import timeit\n",
    "\n",
    "n = 100\n",
    "\n",
    "a = np.random.randint(1,101,(5,3))\n",
    "b = np.random.randint(101,200,(3,2))\n",
    "\n",
    "start1 = timeit.default_timer()\n",
    "res1 = np.matmul(a,b)\n",
    "stop1 = timeit.default_timer()\n",
    "\n",
    "start2 = timeit.default_timer()\n",
    "res2 = np.dot(a,b)\n",
    "stop2 = timeit.default_timer()\n",
    "\n",
    "print(stop1-start1)\n",
    "print(stop2-start2)"
   ]
  },
  {
   "cell_type": "markdown",
   "metadata": {},
   "source": [
    "Notes: \n",
    "1. Use resize((pattern), sizeOfArray) to create an array with given pattern. Works even for odd numbers.\n",
    "2. Fastest way is to use slicing operation in python to set every alternate value to 1, and then reshape it to get a matrix.\n",
    "3. numpy.random.randint(low, high, size) will generate random integers in range low to high. Using randon_intergers gives warning related to something calles deprecation.\n",
    "4. For second method of creating a custom matrix, don't use size greater than 4000.\n",
    "5. For higher values of n, we will use 1st method, cuz it's the fastest(very fast).\n",
    "6. For higher values of n matmul is 2x more efficient than dot."
   ]
  },
  {
   "cell_type": "markdown",
   "metadata": {},
   "source": [
    "## d. Misc operations"
   ]
  },
  {
   "cell_type": "code",
   "execution_count": 20,
   "metadata": {},
   "outputs": [
    {
     "name": "stdout",
     "output_type": "stream",
     "text": [
      "[[ 4]\n",
      " [90]\n",
      " [98]\n",
      " [40]\n",
      " [94]\n",
      " [82]\n",
      " [24]\n",
      " [84]\n",
      " [12]\n",
      " [51]]\n",
      "[[ 4]\n",
      " [90]\n",
      " [ 0]\n",
      " [40]\n",
      " [94]\n",
      " [82]\n",
      " [24]\n",
      " [84]\n",
      " [12]\n",
      " [51]]\n"
     ]
    }
   ],
   "source": [
    "#Replacing max value by 0\n",
    "\n",
    "import numpy as np\n",
    "import scipy as sp\n",
    "\n",
    "a = np.random.randint(1,100,(10,1))\n",
    "\n",
    "a[np.argmax(a)]=0 #amax gives maxmimum value in an array"
   ]
  }
 ],
 "metadata": {
  "kernelspec": {
   "display_name": "Python 3",
   "language": "python",
   "name": "python3"
  },
  "language_info": {
   "codemirror_mode": {
    "name": "ipython",
    "version": 3
   },
   "file_extension": ".py",
   "mimetype": "text/x-python",
   "name": "python",
   "nbconvert_exporter": "python",
   "pygments_lexer": "ipython3",
   "version": "3.5.2"
  }
 },
 "nbformat": 4,
 "nbformat_minor": 2
}
