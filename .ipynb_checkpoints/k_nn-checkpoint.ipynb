{
 "cells": [
  {
   "cell_type": "code",
   "execution_count": null,
   "metadata": {
    "collapsed": true
   },
   "outputs": [],
   "source": [
    "#Appending rows and columns\n",
    "import numpy as np\n",
    "import timeit\n",
    "\n",
    "n = 100\n",
    "a = np.random.randint(1,100,(n,5))\n",
    "b = np.random.randint(0,2,(n,a.shape[1]+1))\n",
    "c = np.indices((n,b.shape[1]+1))\n",
    "#method 1\n",
    "start1 = timeit.default_timer()\n",
    "b[:,:-1] = a\n",
    "c[0][:,1:] = b\n",
    "\n",
    "d = c[0].tolist() #converts 2d array into list of lists\n",
    "print(d)\n",
    "stop1 = timeit.default_timer()\n",
    "print(stop1-start1)\n",
    "\n",
    "#method 2\n",
    "a = np.random.randint(1,100,(n,5))\n",
    "b = np.random.randint(0,2,(n,1))\n",
    "c = np.indices((n,1))\n",
    "\n",
    "start2 = timeit.default_timer()\n",
    "d = np.hstack((a,b))\n",
    "e = np.hstack((c[0],d))\n",
    "stop2 = timeit.default_timer()\n",
    "print(stop2-start2)\n",
    "               "
   ]
  },
  {
   "cell_type": "code",
   "execution_count": null,
   "metadata": {
    "collapsed": true
   },
   "outputs": [],
   "source": [
    "#Creating dataset\n",
    "\n",
    "import csv\n",
    "import pandas as pd\n",
    "import numpy as np\n",
    "import matplotlib as mpl\n",
    "\n",
    "n = 1000\n",
    "\n",
    "a = np.random.randint(1,101,(n,5))\n",
    "b = np.random.randint(0,2,(n,a.shape[1]+1))\n",
    "c = np.indices((n,b.shape[1]+1))\n",
    "b[:,:-1] = a\n",
    "c[0][:,1:] = b\n",
    "\n",
    "data = c[0]\n",
    "csv_data = c[0].tolist()\n",
    "\n",
    "#writing using csv\n",
    "#with open(\"dataset.csv\", \"a\") as csv_file:\n",
    "#    writer = csv.writer(csv_file)\n",
    "#    writer.writerows(csv_data)\n",
    "    \n",
    "#writing using pandas\n",
    "#pd_df = pd.DataFrame(csv_data)\n",
    "#pd_df.to_csv('dataset.csv', index = False, header = False)\n",
    "\n",
    "#shuffling data list\n",
    "np.random.shuffle(data)\n",
    "ind = len(data)*(1/5)\n",
    "test, train = data[:int(ind)], data[int(ind):]\n",
    "pd_df = pd.DataFrame(train)\n",
    "pd_df.to_csv('train.csv', index = False, header = false)"
   ]
  },
  {
   "cell_type": "markdown",
   "metadata": {},
   "source": [
    "Sources:\n",
    "1. Csv writing/reading- https://docs.python.org/2/library/csv.html, https://www.youtube.com/watch?v=i_YIVTU36bE, https://stackoverflow.com/questions/14037540/writing-a-python-list-of-lists-to-a-csv-file\n",
    "2. Appending column - https://stackoverflow.com/questions/8486294/how-to-add-an-extra-column-to-an-numpy-array"
   ]
  },
  {
   "cell_type": "code",
   "execution_count": null,
   "metadata": {
    "collapsed": true
   },
   "outputs": [],
   "source": [
    "#own implementation\n",
    "import numpy as np\n",
    "import timeit\n",
    "import pandas as pd\n",
    "from scipy.spatial import distance\n",
    "\n",
    "n = 10\n",
    "d = np.random.randint(1,101,(n,6))\n",
    "e = np.random.randint(1,101,(1,6))\n",
    "\n",
    "#methods to calculate distance\n",
    "dist = distance.cdist(d,e) #for large arrays(>1e5 points)\n",
    "#returns list of lists\n",
    "#dist = np.linalg.norm(np.array(d)-np.array(e))\n",
    "\n",
    "dist1 = np.sqrt(np.sum((d-e)**2,axis=1)) #returns list\n",
    "\n",
    "dist2 = np.sqrt(np.dot(((d - e)** 2), np.ones((6,1))))\n",
    "\n",
    "\n",
    "df = pd.reader('train.csv', delimiter = ',')\n",
    "train = [list(x) for x in df.values]\n",
    "df = pd.reader('test.csv', delimiter=',')\n",
    "test = [list(x) for x in df.values]\n",
    "def k_nn(k):\n",
    "    "
   ]
  }
 ],
 "metadata": {
  "kernelspec": {
   "display_name": "Python 3",
   "language": "python",
   "name": "python3"
  },
  "language_info": {
   "codemirror_mode": {
    "name": "ipython",
    "version": 3
   },
   "file_extension": ".py",
   "mimetype": "text/x-python",
   "name": "python",
   "nbconvert_exporter": "python",
   "pygments_lexer": "ipython3",
   "version": "3.5.2"
  }
 },
 "nbformat": 4,
 "nbformat_minor": 2
}
